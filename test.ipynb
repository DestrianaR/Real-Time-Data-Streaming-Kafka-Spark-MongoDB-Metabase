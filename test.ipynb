{
 "cells": [
  {
   "cell_type": "code",
   "execution_count": 4,
   "metadata": {},
   "outputs": [],
   "source": [
    "from pyspark.sql import SparkSession\n",
    "from pyspark.sql.functions import col, from_json\n",
    "from pyspark.sql.types import StructType, StructField, StringType, IntegerType, DoubleType, TimestampType\n",
    "from datetime import datetime\n"
   ]
  },
  {
   "cell_type": "code",
   "execution_count": 5,
   "metadata": {},
   "outputs": [],
   "source": [
    "# Initialize Spark session\n",
    "spark = SparkSession.builder \\\n",
    "    .appName(\"KafkaSparkStreaming\") \\\n",
    "    .getOrCreate()"
   ]
  },
  {
   "cell_type": "code",
   "execution_count": 8,
   "metadata": {},
   "outputs": [
    {
     "ename": "AnalysisException",
     "evalue": "[UNRESOLVED_COLUMN.WITH_SUGGESTION] A column or function parameter with name `value` cannot be resolved. Did you mean one of the following? [`currency`, `productId`, `customerId`, `productName`, `productPrice`].; line 1 pos 5;\n'Project [cast('value as string) AS json#195]\n+- LogicalRDD [transactionId#173, productId#174, productName#175, productCategory#176, productPrice#177, productQuantity#178, productBrand#179, currency#180, customerId#181, transactionDate#182, paymentMethod#183], false\n",
     "output_type": "error",
     "traceback": [
      "\u001b[1;31m---------------------------------------------------------------------------\u001b[0m",
      "\u001b[1;31mAnalysisException\u001b[0m                         Traceback (most recent call last)",
      "Cell \u001b[1;32mIn[8], line 34\u001b[0m\n\u001b[0;32m     31\u001b[0m \u001b[38;5;66;03m# Create a DataFrame from the sample data\u001b[39;00m\n\u001b[0;32m     32\u001b[0m df \u001b[38;5;241m=\u001b[39m spark\u001b[38;5;241m.\u001b[39mcreateDataFrame(data, schema\u001b[38;5;241m=\u001b[39mschema)\n\u001b[1;32m---> 34\u001b[0m parsed_df  \u001b[38;5;241m=\u001b[39m \u001b[43mdf\u001b[49m\u001b[38;5;241;43m.\u001b[39;49m\u001b[43mselectExpr\u001b[49m\u001b[43m(\u001b[49m\u001b[38;5;124;43m\"\u001b[39;49m\u001b[38;5;124;43mCAST(value AS STRING) as json\u001b[39;49m\u001b[38;5;124;43m\"\u001b[39;49m\u001b[43m)\u001b[49m \\\n\u001b[0;32m     35\u001b[0m                 \u001b[38;5;241m.\u001b[39mselect(from_json(col(\u001b[38;5;124m\"\u001b[39m\u001b[38;5;124mjson\u001b[39m\u001b[38;5;124m\"\u001b[39m), schema)\u001b[38;5;241m.\u001b[39malias(\u001b[38;5;124m\"\u001b[39m\u001b[38;5;124mdata\u001b[39m\u001b[38;5;124m\"\u001b[39m)) \\\n\u001b[0;32m     36\u001b[0m                 \u001b[38;5;241m.\u001b[39mselect(\u001b[38;5;124m\"\u001b[39m\u001b[38;5;124mdata.*\u001b[39m\u001b[38;5;124m\"\u001b[39m)\n\u001b[0;32m     38\u001b[0m \u001b[38;5;66;03m# Add a new column 'revenue' which is productPrice * productQuantity\u001b[39;00m\n\u001b[0;32m     39\u001b[0m enriched_df \u001b[38;5;241m=\u001b[39m parsed_df\u001b[38;5;241m.\u001b[39mwithColumn(\u001b[38;5;124m\"\u001b[39m\u001b[38;5;124mrevenue\u001b[39m\u001b[38;5;124m\"\u001b[39m, col(\u001b[38;5;124m\"\u001b[39m\u001b[38;5;124mproductPrice\u001b[39m\u001b[38;5;124m\"\u001b[39m) \u001b[38;5;241m*\u001b[39m col(\u001b[38;5;124m\"\u001b[39m\u001b[38;5;124mproductQuantity\u001b[39m\u001b[38;5;124m\"\u001b[39m))\n",
      "File \u001b[1;32mc:\\Users\\destr\\anaconda3\\lib\\site-packages\\pyspark\\sql\\dataframe.py:3078\u001b[0m, in \u001b[0;36mDataFrame.selectExpr\u001b[1;34m(self, *expr)\u001b[0m\n\u001b[0;32m   3076\u001b[0m \u001b[38;5;28;01mif\u001b[39;00m \u001b[38;5;28mlen\u001b[39m(expr) \u001b[38;5;241m==\u001b[39m \u001b[38;5;241m1\u001b[39m \u001b[38;5;129;01mand\u001b[39;00m \u001b[38;5;28misinstance\u001b[39m(expr[\u001b[38;5;241m0\u001b[39m], \u001b[38;5;28mlist\u001b[39m):\n\u001b[0;32m   3077\u001b[0m     expr \u001b[38;5;241m=\u001b[39m expr[\u001b[38;5;241m0\u001b[39m]  \u001b[38;5;66;03m# type: ignore[assignment]\u001b[39;00m\n\u001b[1;32m-> 3078\u001b[0m jdf \u001b[38;5;241m=\u001b[39m \u001b[38;5;28;43mself\u001b[39;49m\u001b[38;5;241;43m.\u001b[39;49m\u001b[43m_jdf\u001b[49m\u001b[38;5;241;43m.\u001b[39;49m\u001b[43mselectExpr\u001b[49m\u001b[43m(\u001b[49m\u001b[38;5;28;43mself\u001b[39;49m\u001b[38;5;241;43m.\u001b[39;49m\u001b[43m_jseq\u001b[49m\u001b[43m(\u001b[49m\u001b[43mexpr\u001b[49m\u001b[43m)\u001b[49m\u001b[43m)\u001b[49m\n\u001b[0;32m   3079\u001b[0m \u001b[38;5;28;01mreturn\u001b[39;00m DataFrame(jdf, \u001b[38;5;28mself\u001b[39m\u001b[38;5;241m.\u001b[39msparkSession)\n",
      "File \u001b[1;32mc:\\Users\\destr\\anaconda3\\lib\\site-packages\\py4j\\java_gateway.py:1322\u001b[0m, in \u001b[0;36mJavaMember.__call__\u001b[1;34m(self, *args)\u001b[0m\n\u001b[0;32m   1316\u001b[0m command \u001b[38;5;241m=\u001b[39m proto\u001b[38;5;241m.\u001b[39mCALL_COMMAND_NAME \u001b[38;5;241m+\u001b[39m\\\n\u001b[0;32m   1317\u001b[0m     \u001b[38;5;28mself\u001b[39m\u001b[38;5;241m.\u001b[39mcommand_header \u001b[38;5;241m+\u001b[39m\\\n\u001b[0;32m   1318\u001b[0m     args_command \u001b[38;5;241m+\u001b[39m\\\n\u001b[0;32m   1319\u001b[0m     proto\u001b[38;5;241m.\u001b[39mEND_COMMAND_PART\n\u001b[0;32m   1321\u001b[0m answer \u001b[38;5;241m=\u001b[39m \u001b[38;5;28mself\u001b[39m\u001b[38;5;241m.\u001b[39mgateway_client\u001b[38;5;241m.\u001b[39msend_command(command)\n\u001b[1;32m-> 1322\u001b[0m return_value \u001b[38;5;241m=\u001b[39m \u001b[43mget_return_value\u001b[49m\u001b[43m(\u001b[49m\n\u001b[0;32m   1323\u001b[0m \u001b[43m    \u001b[49m\u001b[43manswer\u001b[49m\u001b[43m,\u001b[49m\u001b[43m \u001b[49m\u001b[38;5;28;43mself\u001b[39;49m\u001b[38;5;241;43m.\u001b[39;49m\u001b[43mgateway_client\u001b[49m\u001b[43m,\u001b[49m\u001b[43m \u001b[49m\u001b[38;5;28;43mself\u001b[39;49m\u001b[38;5;241;43m.\u001b[39;49m\u001b[43mtarget_id\u001b[49m\u001b[43m,\u001b[49m\u001b[43m \u001b[49m\u001b[38;5;28;43mself\u001b[39;49m\u001b[38;5;241;43m.\u001b[39;49m\u001b[43mname\u001b[49m\u001b[43m)\u001b[49m\n\u001b[0;32m   1325\u001b[0m \u001b[38;5;28;01mfor\u001b[39;00m temp_arg \u001b[38;5;129;01min\u001b[39;00m temp_args:\n\u001b[0;32m   1326\u001b[0m     \u001b[38;5;28;01mif\u001b[39;00m \u001b[38;5;28mhasattr\u001b[39m(temp_arg, \u001b[38;5;124m\"\u001b[39m\u001b[38;5;124m_detach\u001b[39m\u001b[38;5;124m\"\u001b[39m):\n",
      "File \u001b[1;32mc:\\Users\\destr\\anaconda3\\lib\\site-packages\\pyspark\\errors\\exceptions\\captured.py:175\u001b[0m, in \u001b[0;36mcapture_sql_exception.<locals>.deco\u001b[1;34m(*a, **kw)\u001b[0m\n\u001b[0;32m    171\u001b[0m converted \u001b[38;5;241m=\u001b[39m convert_exception(e\u001b[38;5;241m.\u001b[39mjava_exception)\n\u001b[0;32m    172\u001b[0m \u001b[38;5;28;01mif\u001b[39;00m \u001b[38;5;129;01mnot\u001b[39;00m \u001b[38;5;28misinstance\u001b[39m(converted, UnknownException):\n\u001b[0;32m    173\u001b[0m     \u001b[38;5;66;03m# Hide where the exception came from that shows a non-Pythonic\u001b[39;00m\n\u001b[0;32m    174\u001b[0m     \u001b[38;5;66;03m# JVM exception message.\u001b[39;00m\n\u001b[1;32m--> 175\u001b[0m     \u001b[38;5;28;01mraise\u001b[39;00m converted \u001b[38;5;28;01mfrom\u001b[39;00m \u001b[38;5;28;01mNone\u001b[39;00m\n\u001b[0;32m    176\u001b[0m \u001b[38;5;28;01melse\u001b[39;00m:\n\u001b[0;32m    177\u001b[0m     \u001b[38;5;28;01mraise\u001b[39;00m\n",
      "\u001b[1;31mAnalysisException\u001b[0m: [UNRESOLVED_COLUMN.WITH_SUGGESTION] A column or function parameter with name `value` cannot be resolved. Did you mean one of the following? [`currency`, `productId`, `customerId`, `productName`, `productPrice`].; line 1 pos 5;\n'Project [cast('value as string) AS json#195]\n+- LogicalRDD [transactionId#173, productId#174, productName#175, productCategory#176, productPrice#177, productQuantity#178, productBrand#179, currency#180, customerId#181, transactionDate#182, paymentMethod#183], false\n"
     ]
    }
   ],
   "source": [
    "# Sample data as a dictionary\n",
    "data = [{\n",
    "    'transactionId': '8847afe5-c86d-4e5a-be53-93c78b2cca5b', \n",
    "    'productId': 'product1', \n",
    "    'productName': 'laptop', \n",
    "    'productCategory': 'grocery', \n",
    "    'productPrice': 242.46, \n",
    "    'productQuantity': 10, \n",
    "    'productBrand': 'oneplus', \n",
    "    'currency': 'GBP', \n",
    "    'customerId': 'amanda72', \n",
    "    'transactionDate': datetime.strptime('2024-06-29T08:56:08.515900', '%Y-%m-%dT%H:%M:%S.%f'), \n",
    "    'paymentMethod': 'online_transfer'\n",
    "}]\n",
    "\n",
    "# Define schema\n",
    "schema = StructType([\n",
    "    StructField(\"transactionId\", StringType(), True),\n",
    "    StructField(\"productId\", StringType(), True),\n",
    "    StructField(\"productName\", StringType(), True),\n",
    "    StructField(\"productCategory\", StringType(), True),\n",
    "    StructField(\"productPrice\", DoubleType(), True),\n",
    "    StructField(\"productQuantity\", IntegerType(), True),\n",
    "    StructField(\"productBrand\", StringType(), True),\n",
    "    StructField(\"currency\", StringType(), True),\n",
    "    StructField(\"customerId\", StringType(), True),\n",
    "    StructField(\"transactionDate\", TimestampType(), True),\n",
    "    StructField(\"paymentMethod\", StringType(), True)\n",
    "])\n",
    "\n",
    "# Create a DataFrame from the sample data\n",
    "df = spark.createDataFrame(data, schema=schema)\n",
    "\n",
    "parsed_df  = df.selectExpr(\"CAST(value AS STRING) as json\") \\\n",
    "                .select(from_json(col(\"json\"), schema).alias(\"data\")) \\\n",
    "                .select(\"data.*\")\n",
    "\n",
    "# Add a new column 'revenue' which is productPrice * productQuantity\n",
    "enriched_df = parsed_df.withColumn(\"revenue\", col(\"productPrice\") * col(\"productQuantity\"))\n",
    "\n",
    "# Show the enriched DataFrame\n",
    "enriched_df.show()"
   ]
  },
  {
   "cell_type": "code",
   "execution_count": 2,
   "metadata": {},
   "outputs": [
    {
     "name": "stdout",
     "output_type": "stream",
     "text": [
      "+--------------------+---------+-----------+---------------+------------+---------------+------------+--------+----------+--------------------+---------------+\n",
      "|       transactionId|productId|productName|productCategory|productPrice|productQuantity|productBrand|currency|customerId|     transactionDate|  paymentMethod|\n",
      "+--------------------+---------+-----------+---------------+------------+---------------+------------+--------+----------+--------------------+---------------+\n",
      "|8847afe5-c86d-4e5...| product1|     laptop|        grocery|      242.46|             10|     oneplus|     GBP|  amanda72|2024-06-29 08:56:...|online_transfer|\n",
      "+--------------------+---------+-----------+---------------+------------+---------------+------------+--------+----------+--------------------+---------------+\n",
      "\n"
     ]
    }
   ],
   "source": [
    "from pyspark.sql import SparkSession\n",
    "from pyspark.sql.types import StructType, StructField, StringType, DoubleType, IntegerType, TimestampType\n",
    "from datetime import datetime\n",
    "\n",
    "# Initialize Spark session\n",
    "spark = SparkSession.builder \\\n",
    "    .appName(\"KafkaSparkStreaming\") \\\n",
    "    .config(\"spark.driver.host\", \"localhost\") \\\n",
    "    .getOrCreate()\n",
    "\n",
    "# Sample data as a dictionary\n",
    "data = [{\n",
    "    'transactionId': '8847afe5-c86d-4e5a-be53-93c78b2cca5b', \n",
    "    'productId': 'product1', \n",
    "    'productName': 'laptop', \n",
    "    'productCategory': 'grocery', \n",
    "    'productPrice': 242.46, \n",
    "    'productQuantity': 10, \n",
    "    'productBrand': 'oneplus', \n",
    "    'currency': 'GBP', \n",
    "    'customerId': 'amanda72', \n",
    "    'transactionDate': datetime.strptime('2024-06-29T08:56:08.515900', '%Y-%m-%dT%H:%M:%S.%f'), \n",
    "    'paymentMethod': 'online_transfer'\n",
    "}]\n",
    "\n",
    "# Define schema\n",
    "schema = StructType([\n",
    "    StructField(\"transactionId\", StringType(), True),\n",
    "    StructField(\"productId\", StringType(), True),\n",
    "    StructField(\"productName\", StringType(), True),\n",
    "    StructField(\"productCategory\", StringType(), True),\n",
    "    StructField(\"productPrice\", DoubleType(), True),\n",
    "    StructField(\"productQuantity\", IntegerType(), True),\n",
    "    StructField(\"productBrand\", StringType(), True),\n",
    "    StructField(\"currency\", StringType(), True),\n",
    "    StructField(\"customerId\", StringType(), True),\n",
    "    StructField(\"transactionDate\", TimestampType(), True),\n",
    "    StructField(\"paymentMethod\", StringType(), True)\n",
    "])\n",
    "\n",
    "# Create a DataFrame from the sample data\n",
    "df = spark.createDataFrame(data, schema=schema)\n",
    "df.show()\n",
    "\n"
   ]
  },
  {
   "cell_type": "code",
   "execution_count": null,
   "metadata": {},
   "outputs": [],
   "source": []
  }
 ],
 "metadata": {
  "kernelspec": {
   "display_name": "base",
   "language": "python",
   "name": "python3"
  },
  "language_info": {
   "codemirror_mode": {
    "name": "ipython",
    "version": 3
   },
   "file_extension": ".py",
   "mimetype": "text/x-python",
   "name": "python",
   "nbconvert_exporter": "python",
   "pygments_lexer": "ipython3",
   "version": "3.9.13"
  }
 },
 "nbformat": 4,
 "nbformat_minor": 2
}
